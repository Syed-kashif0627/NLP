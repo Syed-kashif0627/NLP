{
 "cells": [
  {
   "cell_type": "code",
   "execution_count": 5,
   "id": "3ea8d789",
   "metadata": {},
   "outputs": [
    {
     "name": "stdout",
     "output_type": "stream",
     "text": [
      "Generated Words: \n",
      "['pct', 'increase', 'in', 'calendar', '1987', ',', 'with', 'a', 'good', 'start', 'although', 'trading', 'after', ',', 'B', '\"', 'We', 'need', 'a', 'more']\n"
     ]
    },
    {
     "name": "stderr",
     "output_type": "stream",
     "text": [
      "[nltk_data] Downloading package reuters to C:\\Users\\M.Tech\n",
      "[nltk_data]     DS006\\AppData\\Roaming\\nltk_data...\n",
      "[nltk_data]   Package reuters is already up-to-date!\n"
     ]
    }
   ],
   "source": [
    "import random \n",
    "import nltk\n",
    "nltk.download('reuters')\n",
    "\n",
    "from nltk.corpus import reuters\n",
    "from nltk import bigrams\n",
    "\n",
    "def genWords(inputWords,numWords):\n",
    "    inputBigrams=list(bigrams(inputWords))\n",
    "\n",
    "    transitions={}\n",
    "\n",
    "    for w1,w2 in inputBigrams:\n",
    "        if w1 in transitions:\n",
    "            transitions[w1].append(w2)\n",
    "        else:\n",
    "            transitions[w1]=[w2]\n",
    "    \n",
    "    currentWord=random.choice(inputWords)\n",
    "    generatedWords=[currentWord]\n",
    "\n",
    "    for _ in range(numWords-1):\n",
    "        if currentWord in transitions:\n",
    "            nextWord=random.choice(transitions[currentWord])\n",
    "            generatedWords.append(nextWord)\n",
    "            currentWord=nextWord\n",
    "        else:\n",
    "            break\n",
    "    \n",
    "    return generatedWords\n",
    "\n",
    "inputWords=reuters.words()[:10000]\n",
    "numWords=20\n",
    "\n",
    "generatedWords=genWords(inputWords,numWords)\n",
    "\n",
    "print(\"Generated Words: \")\n",
    "print(generatedWords)"
   ]
  }
 ],
 "metadata": {
  "kernelspec": {
   "display_name": "Python 3",
   "language": "python",
   "name": "python3"
  },
  "language_info": {
   "codemirror_mode": {
    "name": "ipython",
    "version": 3
   },
   "file_extension": ".py",
   "mimetype": "text/x-python",
   "name": "python",
   "nbconvert_exporter": "python",
   "pygments_lexer": "ipython3",
   "version": "3.13.2"
  }
 },
 "nbformat": 4,
 "nbformat_minor": 5
}
