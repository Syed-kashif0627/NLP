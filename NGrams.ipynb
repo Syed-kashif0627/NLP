{
 "cells": [
  {
   "cell_type": "code",
   "execution_count": 3,
   "id": "7694d638",
   "metadata": {},
   "outputs": [
    {
     "name": "stdout",
     "output_type": "stream",
     "text": [
      "[('I', 'love', 'coding'), ('love', 'coding', 'in'), ('coding', 'in', 'Python'), ('in', 'Python', '.')]\n"
     ]
    }
   ],
   "source": [
    "import nltk\n",
    "\n",
    "def generate_ngrams(text, n):\n",
    "    # Tokenize the text into words\n",
    "    words = nltk.word_tokenize(text)\n",
    "    # Generate N-grams\n",
    "    ngrams = list(nltk.ngrams(words, n))\n",
    "    return ngrams\n",
    "\n",
    "# Example usage\n",
    "text = \"I love coding in Python.\"\n",
    "n = 3\n",
    "ngrams = generate_ngrams(text, n)\n",
    "print(ngrams)\n"
   ]
  }
 ],
 "metadata": {
  "kernelspec": {
   "display_name": "Python 3",
   "language": "python",
   "name": "python3"
  },
  "language_info": {
   "codemirror_mode": {
    "name": "ipython",
    "version": 3
   },
   "file_extension": ".py",
   "mimetype": "text/x-python",
   "name": "python",
   "nbconvert_exporter": "python",
   "pygments_lexer": "ipython3",
   "version": "3.13.2"
  }
 },
 "nbformat": 4,
 "nbformat_minor": 5
}
