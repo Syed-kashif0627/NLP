{
 "cells": [
  {
   "cell_type": "code",
   "execution_count": 8,
   "id": "c6afe432",
   "metadata": {},
   "outputs": [
    {
     "name": "stdout",
     "output_type": "stream",
     "text": [
      "[('Python', 'NNP'), ('is', 'VBZ'), ('fun', 'NN')]\n",
      "POS Tagged Words are: \n",
      "[('I', 'PRP'), ('love', 'VBP'), ('Coding', 'VBG'), ('in', 'IN'), ('Python', 'NNP'), ('.', '.')]\n"
     ]
    },
    {
     "name": "stderr",
     "output_type": "stream",
     "text": [
      "[nltk_data] Downloading package averaged_perceptron_tagger to\n",
      "[nltk_data]     C:\\Users\\M.Tech DS006\\AppData\\Roaming\\nltk_data...\n",
      "[nltk_data]   Package averaged_perceptron_tagger is already up-to-\n",
      "[nltk_data]       date!\n"
     ]
    }
   ],
   "source": [
    "import nltk\n",
    "from nltk import pos_tag\n",
    "\n",
    "\n",
    "nltk.download('averaged_perceptron_tagger')\n",
    "\n",
    "\n",
    "print(pos_tag([\"Python\", \"is\", \"fun\"]))\n",
    "\n",
    "\n",
    "\n",
    "sentence=\"I love Coding in Python.\"\n",
    "\n",
    "words=nltk.word_tokenize(sentence)\n",
    "\n",
    "\n",
    "taggedWords=nltk.pos_tag(words)\n",
    "\n",
    "\n",
    "print(\"POS Tagged Words are: \")\n",
    "print(taggedWords)\n",
    "\n"
   ]
  },
  {
   "cell_type": "code",
   "execution_count": 7,
   "id": "e97c6bd5",
   "metadata": {},
   "outputs": [
    {
     "name": "stdout",
     "output_type": "stream",
     "text": [
      "[('Python', 'NNP'), ('is', 'VBZ'), ('fun', 'NN')]\n"
     ]
    }
   ],
   "source": [
    "from textblob import TextBlob\n",
    "blob = TextBlob(\"Python is fun!\")\n",
    "print(blob.tags)\n"
   ]
  }
 ],
 "metadata": {
  "kernelspec": {
   "display_name": "Python 3",
   "language": "python",
   "name": "python3"
  },
  "language_info": {
   "codemirror_mode": {
    "name": "ipython",
    "version": 3
   },
   "file_extension": ".py",
   "mimetype": "text/x-python",
   "name": "python",
   "nbconvert_exporter": "python",
   "pygments_lexer": "ipython3",
   "version": "3.13.2"
  }
 },
 "nbformat": 4,
 "nbformat_minor": 5
}
