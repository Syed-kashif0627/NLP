{
 "cells": [
  {
   "cell_type": "code",
   "execution_count": 8,
   "metadata": {},
   "outputs": [
    {
     "name": "stdout",
     "output_type": "stream",
     "text": [
      "Original Tokens: ['Natural', 'language', 'processing', 'is', 'a', 'field', 'of', 'artificial', 'intelligence', 'that', 'enables', 'computers', 'to', 'understand', ',', 'interpret', ',', 'and', 'manipulate', 'human', 'language', '.']\n",
      "Stemmed Words: ['natur', 'languag', 'process', 'is', 'a', 'field', 'of', 'artifici', 'intellig', 'that', 'enabl', 'comput', 'to', 'understand', 'interpret', 'and', 'manipul', 'human', 'languag']\n"
     ]
    },
    {
     "name": "stderr",
     "output_type": "stream",
     "text": [
      "[nltk_data] Downloading package punkt to C:\\Users\\M.Tech\n",
      "[nltk_data]     DS006\\AppData\\Roaming\\nltk_data...\n",
      "[nltk_data]   Package punkt is already up-to-date!\n"
     ]
    }
   ],
   "source": [
    "# Import necessary libraries\n",
    "from nltk.tokenize import word_tokenize\n",
    "from nltk.stem import PorterStemmer\n",
    "import nltk\n",
    "import string\n",
    "\n",
    "# Ensure NLTK data is downloaded (do this only once)\n",
    "nltk.download('punkt')\n",
    "\n",
    "# Sample paragraph\n",
    "paragraph = \"\"\"Natural language processing is a field of artificial intelligence that enables computers to understand, interpret, and manipulate human language.\"\"\"\n",
    "\n",
    "# Tokenization: Split the paragraph into individual words\n",
    "tokens = word_tokenize(paragraph)\n",
    "\n",
    "# Initialize the stemmer\n",
    "stemmer = PorterStemmer()\n",
    "\n",
    "# Perform stemming only on words (and ignore punctuation)\n",
    "stemmed_words = [stemmer.stem(word) for word in tokens if word not in string.punctuation]\n",
    "\n",
    "# Display results\n",
    "print(\"Original Tokens:\", tokens)\n",
    "print(\"Stemmed Words:\", stemmed_words)\n",
    "\n"
   ]
  }
 ],
 "metadata": {
  "kernelspec": {
   "display_name": "Python 3",
   "language": "python",
   "name": "python3"
  },
  "language_info": {
   "codemirror_mode": {
    "name": "ipython",
    "version": 3
   },
   "file_extension": ".py",
   "mimetype": "text/x-python",
   "name": "python",
   "nbconvert_exporter": "python",
   "pygments_lexer": "ipython3",
   "version": "3.13.2"
  }
 },
 "nbformat": 4,
 "nbformat_minor": 2
}
