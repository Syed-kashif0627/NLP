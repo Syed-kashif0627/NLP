{
 "cells": [
  {
   "cell_type": "code",
   "execution_count": 4,
   "metadata": {},
   "outputs": [
    {
     "name": "stdout",
     "output_type": "stream",
     "text": [
      "Python 3.13.2\n"
     ]
    }
   ],
   "source": [
    "!python --version"
   ]
  },
  {
   "cell_type": "code",
   "execution_count": 7,
   "metadata": {},
   "outputs": [
    {
     "name": "stdout",
     "output_type": "stream",
     "text": [
      "Original Text:\n",
      " This is a sample Example text. to test sentence and word Tokenization!       \n",
      "Sentence tokenization and word tokenization are the first basic steps in NLP.\n",
      "\n",
      "Sentence Tokenization:\n",
      " ['This is a sample Example text.', 'to test sentence and word Tokenization!', 'Sentence tokenization and word tokenization are the first basic steps in NLP.']\n",
      "\n",
      "Word Tokenization:\n",
      " ['This', 'is', 'a', 'sample', 'Example', 'text', '.', 'to', 'test', 'sentence', 'and', 'word', 'Tokenization', '!', 'Sentence', 'tokenization', 'and', 'word', 'tokenization', 'are', 'the', 'first', 'basic', 'steps', 'in', 'NLP', '.']\n"
     ]
    },
    {
     "name": "stderr",
     "output_type": "stream",
     "text": [
      "[nltk_data] Downloading package punkt to C:\\Users\\M.Tech\n",
      "[nltk_data]     DS006\\AppData\\Roaming\\nltk_data...\n",
      "[nltk_data]   Package punkt is already up-to-date!\n"
     ]
    }
   ],
   "source": [
    "from nltk.tokenize import sent_tokenize, word_tokenize\n",
    "import nltk\n",
    "nltk.download('punkt')\n",
    "\n",
    "sampleText = '''This is a sample Example text. to test sentence and word Tokenization!       \n",
    "Sentence tokenization and word tokenization are the first basic steps in NLP.'''\n",
    "sentences = sent_tokenize(sampleText)\n",
    "words = word_tokenize(sampleText)\n",
    "\n",
    "print(\"Original Text:\\n\",sampleText,end=\"\\n\\n\")\n",
    "print(\"Sentence Tokenization:\\n\", sentences,end=\"\\n\\n\")\n",
    "print(\"Word Tokenization:\\n\", words)\n"
   ]
  },
  {
   "cell_type": "code",
   "execution_count": null,
   "metadata": {},
   "outputs": [],
   "source": []
  }
 ],
 "metadata": {
  "kernelspec": {
   "display_name": "Python 3 (ipykernel)",
   "language": "python",
   "name": "python3"
  },
  "language_info": {
   "codemirror_mode": {
    "name": "ipython",
    "version": 3
   },
   "file_extension": ".py",
   "mimetype": "text/x-python",
   "name": "python",
   "nbconvert_exporter": "python",
   "pygments_lexer": "ipython3",
   "version": "3.13.2"
  }
 },
 "nbformat": 4,
 "nbformat_minor": 4
}
