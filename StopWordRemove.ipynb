{
 "cells": [
  {
   "cell_type": "code",
   "execution_count": 6,
   "id": "7a5c9da2",
   "metadata": {},
   "outputs": [
    {
     "name": "stderr",
     "output_type": "stream",
     "text": [
      "[nltk_data] Downloading package stopwords to C:\\Users\\M.Tech\n",
      "[nltk_data]     DS006\\AppData\\Roaming\\nltk_data...\n",
      "[nltk_data]   Unzipping corpora\\stopwords.zip.\n",
      "[nltk_data] Downloading package punkt to C:\\Users\\M.Tech\n",
      "[nltk_data]     DS006\\AppData\\Roaming\\nltk_data...\n",
      "[nltk_data]   Package punkt is already up-to-date!\n"
     ]
    },
    {
     "name": "stdout",
     "output_type": "stream",
     "text": [
      "\n",
      "\n",
      "Filtered sentence after stop word removal is:  playing cricket Ground\n"
     ]
    }
   ],
   "source": [
    "import nltk\n",
    "from nltk.corpus import stopwords\n",
    "from nltk.tokenize import word_tokenize\n",
    "\n",
    "nltk.download(\"stopwords\")\n",
    "nltk.download('punkt')\n",
    "\n",
    "sentence=input(\"Enter Sentence to remove stop words: \")\n",
    "\n",
    "# sentence=\"The Cat is sitting on a mat\"\n",
    "words=word_tokenize(sentence)\n",
    "\n",
    "stopWords=set(stopwords.words('english'))\n",
    "\n",
    "filteredWords=[word for word in words if word.lower() not in stopWords]\n",
    "\n",
    "filteredSentence=' '.join(filteredWords)\n",
    "\n",
    "print(\"\\n\\nFiltered sentence after stop word removal is: \",filteredSentence)"
   ]
  }
 ],
 "metadata": {
  "kernelspec": {
   "display_name": "Python 3",
   "language": "python",
   "name": "python3"
  },
  "language_info": {
   "codemirror_mode": {
    "name": "ipython",
    "version": 3
   },
   "file_extension": ".py",
   "mimetype": "text/x-python",
   "name": "python",
   "nbconvert_exporter": "python",
   "pygments_lexer": "ipython3",
   "version": "3.13.2"
  }
 },
 "nbformat": 4,
 "nbformat_minor": 5
}
