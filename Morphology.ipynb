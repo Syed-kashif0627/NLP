{
 "cells": [
  {
   "cell_type": "code",
   "execution_count": 16,
   "id": "7f2e90dc",
   "metadata": {},
   "outputs": [
    {
     "name": "stdout",
     "output_type": "stream",
     "text": [
      "Origninal Word is:  slower\n",
      "Stemmed Word is:  slower\n",
      "Lemmatized Word is:  slow\n"
     ]
    }
   ],
   "source": [
    "\n",
    "from nltk.stem import PorterStemmer,WordNetLemmatizer\n",
    "\n",
    "word=\"slower\"\n",
    "\n",
    "print(\"Origninal Word is: \",word)\n",
    "stemmer=PorterStemmer()\n",
    "\n",
    "stemmedWord=stemmer.stem(word)\n",
    "\n",
    "print(\"Stemmed Word is: \",stemmedWord)\n",
    "\n",
    "lemmatizer=WordNetLemmatizer()\n",
    "\n",
    "lemmatizedWord=lemmatizer.lemmatize(word,pos='a') #Pos specifies parts of speech here it is adjective\n",
    "\n",
    "print(\"Lemmatized Word is: \",lemmatizedWord)\n",
    "\n",
    "\n"
   ]
  }
 ],
 "metadata": {
  "kernelspec": {
   "display_name": "Python 3",
   "language": "python",
   "name": "python3"
  },
  "language_info": {
   "codemirror_mode": {
    "name": "ipython",
    "version": 3
   },
   "file_extension": ".py",
   "mimetype": "text/x-python",
   "name": "python",
   "nbconvert_exporter": "python",
   "pygments_lexer": "ipython3",
   "version": "3.13.2"
  }
 },
 "nbformat": 4,
 "nbformat_minor": 5
}
