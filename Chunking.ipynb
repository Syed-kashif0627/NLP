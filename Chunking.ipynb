{
 "cells": [
  {
   "cell_type": "code",
   "execution_count": 12,
   "id": "88c744a3",
   "metadata": {},
   "outputs": [
    {
     "name": "stdout",
     "output_type": "stream",
     "text": [
      "(S\n",
      "  (CLAUSE (NP The/DT cat/NN) (VP is/VBZ sitting/VBG))\n",
      "  on/IN\n",
      "  (NP the/DT mat/NN)\n",
      "  ./.)\n"
     ]
    }
   ],
   "source": [
    "import nltk\n",
    "\n",
    "# Ensure necessary resources are downloaded\n",
    "#nltk.download('punkt')\n",
    "#nltk.download('averaged_perceptron_tagger')\n",
    "\n",
    "def chunking(sentence):\n",
    "    # Tokenize the sentence into words\n",
    "    words = nltk.word_tokenize(sentence)\n",
    "\n",
    "    # Perform POS tagging\n",
    "    pos_tags = nltk.pos_tag(words)\n",
    "\n",
    "    # Define chunking patterns\n",
    "    grammar = r\"\"\"\n",
    "        NP: {<DT|JJ|NN.*>+} # Noun Phrase\n",
    "        # VP: {<VB.*><NP|PP|CLAUSE>+$} # Verb Phrase\n",
    "        VP: {<VB.*><VB.*>*<NP|PP|CLAUSE>*} # Verb Phrase\n",
    "        CLAUSE: {<NP><VP>}          # Clause = NP followed by VP\n",
    "    \"\"\"\n",
    "\n",
    "    # Create a chunk parser\n",
    "    parser = nltk.RegexpParser(grammar)\n",
    "\n",
    "    # Perform chunking\n",
    "    chunks = parser.parse(pos_tags)\n",
    "\n",
    "    return chunks\n",
    "\n",
    "# Example usage\n",
    "# sentence = \"The big brown cat is sitting under the small wooden table.\"\n",
    "sentence = \"The cat is sitting on the mat.\"\n",
    "chunked_sentence = chunking(sentence)\n",
    "print(chunked_sentence)"
   ]
  }
 ],
 "metadata": {
  "kernelspec": {
   "display_name": "Python 3",
   "language": "python",
   "name": "python3"
  },
  "language_info": {
   "codemirror_mode": {
    "name": "ipython",
    "version": 3
   },
   "file_extension": ".py",
   "mimetype": "text/x-python",
   "name": "python",
   "nbconvert_exporter": "python",
   "pygments_lexer": "ipython3",
   "version": "3.13.2"
  }
 },
 "nbformat": 4,
 "nbformat_minor": 5
}
